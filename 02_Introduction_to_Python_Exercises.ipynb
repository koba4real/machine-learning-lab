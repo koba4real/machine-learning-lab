{
  "nbformat": 4,
  "nbformat_minor": 0,
  "metadata": {
    "kernelspec": {
      "display_name": "Python 3",
      "language": "python",
      "name": "python3"
    },
    "language_info": {
      "codemirror_mode": {
        "name": "ipython",
        "version": 3
      },
      "file_extension": ".py",
      "mimetype": "text/x-python",
      "name": "python",
      "nbconvert_exporter": "python",
      "pygments_lexer": "ipython3",
      "version": "3.6.9"
    },
    "colab": {
      "name": "02-Introduction-to-Python-Exercises.ipynb",
      "provenance": [],
      "include_colab_link": true
    }
  },
  "cells": [
    {
      "cell_type": "markdown",
      "metadata": {
        "id": "view-in-github",
        "colab_type": "text"
      },
      "source": [
        "<a href=\"https://colab.research.google.com/github/koba4real/machine-learning-lab/blob/main/02_Introduction_to_Python_Exercises.ipynb\" target=\"_parent\"><img src=\"https://colab.research.google.com/assets/colab-badge.svg\" alt=\"Open In Colab\"/></a>"
      ]
    },
    {
      "cell_type": "markdown",
      "metadata": {
        "id": "11IzeINrP6FU"
      },
      "source": [
        "## How to cook the perfect egg\n",
        "As an egg cooks, the proteins first denature and then coagulate. When the temperature exceeds a critical point, reactions begin and proceed faster as the temperature increases. In the egg white the proteins start to coagulate for temperatures above 63°C, while in the yolk the proteins start to coagulate for temperatures above 70°C. For a soft boiled egg, the white needs to have been heated long enough to coagulate at a temperature above 63°C, but the yolk should not be heated above 70°C. For a hard boiled egg, the center of the yolk should be allowed to reach 70°C. The following formula expresses the time $t$ it takes (in seconds) for the center of the yolk to reach the temperature $T_y$ (in Celsius degrees):\n",
        "\n",
        "$$t = \\frac{M^{2/3}c\\rho^{1/3}}{K\\pi^2(4\\pi/3)^{2/3}}\\ln\\left[0.76\\frac{T_o - T_w}{T_y - T_w}\\right]$$\n",
        "\n",
        "Here, $M, \\rho, c$ and $K$ are properties of the egg: $M$ is the mass, $\\rho$ is the density, $c$ is the specific heat capacity, and $K$ is thermal conductivity. Relevant values are $M$ = 47 g for a small egg and $M$ = 67 g for a large egg, $\\rho$ = 1.038 g cm$^{-3}$, $c$ = 3.7 J g$^{-1}$K$^{-1}$, and $K$ = 5.4 $\\times$ 10$^{-3}$ W cm$^{-1}$ K$^{-1}$. Furthermore, $T_w$ is the temperature (in C degrees) of the boiling water, and $T_o$ is the original temperature (in C degrees) of the egg before being put in the water.\n",
        "\n",
        "Implement the formula in a program, set $T_w$ = 100°C and $T_y$ = 70°C, and compute $t$ for a small and large egg taken from the fridge ($T_o$ = 4°C) and from room temperature ($T_o$ = 20°C)."
      ]
    },
    {
      "cell_type": "code",
      "metadata": {
        "id": "fj6Q2aNNf3dM",
        "outputId": "47582342-ccd9-40f8-ce1b-66d45cce7ff7",
        "colab": {
          "base_uri": "https://localhost:8080/"
        }
      },
      "source": [
        "from math import pi, log\n",
        "\n",
        "Tw = 100    # C Temperature of the water\n",
        "Ty = 70     # C Desired temperature of the yolk\n",
        "rho = 1.038 # g cm^{-3}\n",
        "M = 67      # g\n",
        "K = 5.4e-3  # W cm^{-1} K^{-1}\n",
        "c = 3.7     # J g^{-1} K^{-1}\n",
        "\n",
        "for To in [4, 20]:\n",
        "    for M in [47, 67]:\n",
        "        numerator = M**(2/3)*c*rho**(1/3)\n",
        "        denominator = K*pi**2*(4*pi/3)**(2/3)\n",
        "        logarithm = log(0.76*(To - Tw)/(Ty - Tw))\n",
        "        t = numerator / denominator * logarithm\n",
        "        print(\"Time required for perfect {} g egg when To = {} C is {:.2f} seconds.\".format(M, To, t))"
      ],
      "execution_count": null,
      "outputs": [
        {
          "output_type": "stream",
          "name": "stdout",
          "text": [
            "Time required for perfect 47 g egg when To = 4 C is 313.09 seconds.\n",
            "Time required for perfect 67 g egg when To = 4 C is 396.58 seconds.\n",
            "Time required for perfect 47 g egg when To = 20 C is 248.86 seconds.\n",
            "Time required for perfect 67 g egg when To = 20 C is 315.22 seconds.\n"
          ]
        }
      ]
    },
    {
      "cell_type": "markdown",
      "metadata": {
        "id": "1vMZ9PjIf3dP"
      },
      "source": [
        "2. Given a matrix, for example:\n",
        "[[5, 6, 7], [8, 3, 2], [8, 2, 1]]\n",
        "define a function that returns a dictionary that associates for each row index (starting from 1) the corresponding list of values in the matrix. Considering the matrix in example, the result would be:\n",
        "{1: [5, 6, 7], 2: [8, 3, 2], 3: [8, 2, 1]}"
      ]
    },
    {
      "cell_type": "code",
      "metadata": {
        "id": "yoiltpk-f3dQ",
        "outputId": "b40f7fd3-46ae-450b-a9fd-acc8d4c4de45",
        "colab": {
          "base_uri": "https://localhost:8080/"
        }
      },
      "source": [
        "test_list = [[5, 6, 7], [8, 3, 2], [8, 2, 1]]\n",
        "res = {incrememnt +1 : test_list[incrememnt] for incrememnt in range(len(test_list))}\n",
        "print(res)"
      ],
      "execution_count": null,
      "outputs": [
        {
          "output_type": "stream",
          "name": "stdout",
          "text": [
            "{1: [5, 6, 7], 2: [8, 3, 2], 3: [8, 2, 1]}\n"
          ]
        }
      ]
    },
    {
      "cell_type": "markdown",
      "metadata": {
        "id": "ehjQ_Hztf3dQ"
      },
      "source": [
        "3. Given a list of integer values, such as:\n",
        "[50, 100, 150, 200, 250, 300]\n",
        "create a dictionary into which, for each element of the list, it's associated a list of 10 random numbers between 0 and the element. For generating the random number, use the randrange from the random package passing the element as parameter."
      ]
    },
    {
      "cell_type": "code",
      "metadata": {
        "id": "jR48WnRFf3dR",
        "outputId": "e54499ee-e20d-42e9-9099-f21e72b6d76d",
        "colab": {
          "base_uri": "https://localhost:8080/"
        }
      },
      "source": [
        "from random import randrange\n",
        "l = [50, 100, 150, 200, 250, 300]\n",
        "d = {k: [randrange(k) for _ in range(10)] for k in l}\n",
        "print(d)"
      ],
      "execution_count": null,
      "outputs": [
        {
          "output_type": "stream",
          "name": "stdout",
          "text": [
            "{50: [4, 26, 23, 45, 32, 22, 25, 40, 33, 43], 100: [65, 86, 9, 39, 92, 19, 16, 16, 51, 61], 150: [69, 46, 22, 69, 107, 12, 94, 45, 46, 147], 200: [89, 112, 124, 101, 59, 28, 60, 68, 142, 177], 250: [187, 18, 178, 80, 82, 16, 160, 205, 232, 24], 300: [45, 84, 187, 167, 241, 83, 41, 148, 237, 15]}\n"
          ]
        }
      ]
    },
    {
      "cell_type": "markdown",
      "metadata": {
        "id": "C298PQwpf3dS"
      },
      "source": [
        "4. Create a function that takes in input a dictionary like the one generated in the Exercise 3. This function should calculate the minimum and the maximum for each list in the dictionary. The return value should be another dictionary into which, for each key of the input dictionay is associated a tuple formed by the minimum and the maximum of the list. For calculating the minimum and maximum use the min(list) and max(list) functions."
      ]
    },
    {
      "cell_type": "code",
      "metadata": {
        "id": "OzBkJUPkf3dT",
        "outputId": "f360449e-f859-4856-db8c-467875f5f8aa",
        "colab": {
          "base_uri": "https://localhost:8080/"
        }
      },
      "source": [
        "def transform_dictionary(d):\n",
        "    new_dictionary = dict()\n",
        "    for k, l in d.items():\n",
        "        minimum = min(l)\n",
        "        maximum = max(l)\n",
        "        new_dictionary[k] =(minimum, maximum)\n",
        "    return new_dictionary\n",
        "\n",
        "print(transform_dictionary(d))"
      ],
      "execution_count": null,
      "outputs": [
        {
          "output_type": "stream",
          "name": "stdout",
          "text": [
            "{50: (4, 45), 100: (9, 92), 150: (12, 147), 200: (28, 177), 250: (16, 232), 300: (15, 241)}\n"
          ]
        }
      ]
    },
    {
      "cell_type": "markdown",
      "metadata": {
        "id": "VxOVQblif3dT"
      },
      "source": [
        "5. Create the same function using the list comprehension. Also, in this version the lists which contains at least an element lower than 10 should not be included.\n"
      ]
    },
    {
      "cell_type": "code",
      "metadata": {
        "id": "Nj2eT52zf3dU",
        "outputId": "63358c6d-756e-4d77-8864-0a8244fd622e",
        "colab": {
          "base_uri": "https://localhost:8080/"
        }
      },
      "source": [
        "def transform_dictionary(d):\n",
        "    return {k:(min(l),max(l))for k, l in d.items() if min(l)>10}\n",
        "\n",
        "print(transform_dictionary(d))"
      ],
      "execution_count": null,
      "outputs": [
        {
          "output_type": "stream",
          "name": "stdout",
          "text": [
            "{150: (12, 147), 200: (28, 177), 250: (16, 232), 300: (15, 241)}\n"
          ]
        }
      ]
    }
  ]
}