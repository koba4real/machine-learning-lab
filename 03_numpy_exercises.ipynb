{
  "cells": [
    {
      "cell_type": "markdown",
      "metadata": {
        "id": "view-in-github",
        "colab_type": "text"
      },
      "source": [
        "<a href=\"https://colab.research.google.com/github/koba4real/machine-learning-lab/blob/main/03_numpy_exercises.ipynb\" target=\"_parent\"><img src=\"https://colab.research.google.com/assets/colab-badge.svg\" alt=\"Open In Colab\"/></a>"
      ]
    },
    {
      "cell_type": "markdown",
      "metadata": {
        "id": "icmnYYwvMWlr"
      },
      "source": [
        "# Numpy Practice - Hints - Unibs 2021"
      ],
      "id": "icmnYYwvMWlr"
    },
    {
      "cell_type": "markdown",
      "metadata": {
        "id": "4yOG_DagMWlt"
      },
      "source": [
        "#### Import the numpy package under the name `np` and print version and configuration (base)\n",
        "`hint: import … as, np.__version__, np.show_config`"
      ],
      "id": "4yOG_DagMWlt"
    },
    {
      "cell_type": "code",
      "execution_count": null,
      "metadata": {
        "colab": {
          "base_uri": "https://localhost:8080/"
        },
        "id": "X-Rp0jkmMWlt",
        "outputId": "c8af6f73-a542-495b-e344-d70c33a832f9"
      },
      "outputs": [
        {
          "output_type": "stream",
          "name": "stdout",
          "text": [
            "2.0.2\n",
            "Build Dependencies:\n",
            "  blas:\n",
            "    detection method: pkgconfig\n",
            "    found: true\n",
            "    include directory: /opt/_internal/cpython-3.11.8/lib/python3.11/site-packages/scipy_openblas64/include\n",
            "    lib directory: /opt/_internal/cpython-3.11.8/lib/python3.11/site-packages/scipy_openblas64/lib\n",
            "    name: scipy-openblas\n",
            "    openblas configuration: OpenBLAS 0.3.27  USE64BITINT DYNAMIC_ARCH NO_AFFINITY\n",
            "      Zen MAX_THREADS=64\n",
            "    pc file directory: /project/.openblas\n",
            "    version: 0.3.27\n",
            "  lapack:\n",
            "    detection method: pkgconfig\n",
            "    found: true\n",
            "    include directory: /opt/_internal/cpython-3.11.8/lib/python3.11/site-packages/scipy_openblas64/include\n",
            "    lib directory: /opt/_internal/cpython-3.11.8/lib/python3.11/site-packages/scipy_openblas64/lib\n",
            "    name: scipy-openblas\n",
            "    openblas configuration: OpenBLAS 0.3.27  USE64BITINT DYNAMIC_ARCH NO_AFFINITY\n",
            "      Zen MAX_THREADS=64\n",
            "    pc file directory: /project/.openblas\n",
            "    version: 0.3.27\n",
            "Compilers:\n",
            "  c:\n",
            "    commands: cc\n",
            "    linker: ld.bfd\n",
            "    name: gcc\n",
            "    version: 10.2.1\n",
            "  c++:\n",
            "    commands: c++\n",
            "    linker: ld.bfd\n",
            "    name: gcc\n",
            "    version: 10.2.1\n",
            "  cython:\n",
            "    commands: cython\n",
            "    linker: cython\n",
            "    name: cython\n",
            "    version: 3.0.11\n",
            "Machine Information:\n",
            "  build:\n",
            "    cpu: x86_64\n",
            "    endian: little\n",
            "    family: x86_64\n",
            "    system: linux\n",
            "  host:\n",
            "    cpu: x86_64\n",
            "    endian: little\n",
            "    family: x86_64\n",
            "    system: linux\n",
            "Python Information:\n",
            "  path: /tmp/build-env-zm_4loqi/bin/python\n",
            "  version: '3.11'\n",
            "SIMD Extensions:\n",
            "  baseline:\n",
            "  - SSE\n",
            "  - SSE2\n",
            "  - SSE3\n",
            "  found:\n",
            "  - SSSE3\n",
            "  - SSE41\n",
            "  - POPCNT\n",
            "  - SSE42\n",
            "  - AVX\n",
            "  - F16C\n",
            "  - FMA3\n",
            "  - AVX2\n",
            "  not found:\n",
            "  - AVX512F\n",
            "  - AVX512CD\n",
            "  - AVX512_KNL\n",
            "  - AVX512_KNM\n",
            "  - AVX512_SKX\n",
            "  - AVX512_CLX\n",
            "  - AVX512_CNL\n",
            "  - AVX512_ICL\n",
            "\n"
          ]
        }
      ],
      "source": [
        "import numpy as np\n",
        "print(np.__version__)\n",
        "np.show_config()"
      ],
      "id": "X-Rp0jkmMWlt"
    },
    {
      "cell_type": "markdown",
      "metadata": {
        "id": "1VLi957FMWlu"
      },
      "source": [
        "## Base Practice"
      ],
      "id": "1VLi957FMWlu"
    },
    {
      "cell_type": "markdown",
      "metadata": {
        "id": "_vhGJWd7MWlu"
      },
      "source": [
        "#### 1. Create a null vector of size 10 but the fifth value which is 1 (base)\n",
        "`hint: array[4]`"
      ],
      "id": "_vhGJWd7MWlu"
    },
    {
      "cell_type": "code",
      "execution_count": null,
      "metadata": {
        "colab": {
          "base_uri": "https://localhost:8080/"
        },
        "id": "aEwOFPzTMWlu",
        "outputId": "8415d40f-771b-4a05-9122-a14739cca5d2"
      },
      "outputs": [
        {
          "output_type": "stream",
          "name": "stdout",
          "text": [
            "[0. 0. 0. 0. 1. 0. 0. 0. 0. 0.]\n"
          ]
        }
      ],
      "source": [
        "array = np.zeros(10)\n",
        "array[4] = 1\n",
        "print(array)"
      ],
      "id": "aEwOFPzTMWlu"
    },
    {
      "cell_type": "markdown",
      "metadata": {
        "id": "60O_MKrUMWlu"
      },
      "source": [
        "#### 2. Create a 3x3 matrix with values ranging from 0 to 8 with zeros on the diagonal (base)\n",
        "`hint: np.arange, reshape, np.eye`"
      ],
      "id": "60O_MKrUMWlu"
    },
    {
      "cell_type": "code",
      "execution_count": null,
      "metadata": {
        "id": "KAKMUmXIMWlu"
      },
      "outputs": [],
      "source": [],
      "id": "KAKMUmXIMWlu"
    },
    {
      "cell_type": "markdown",
      "metadata": {
        "id": "nMX4IXiWMWlu"
      },
      "source": [
        "#### 3. How to add a border (filled with 0's) around an 5x5 matrix of ones? (base)\n",
        "`hint: np.ones, np.pad`"
      ],
      "id": "nMX4IXiWMWlu"
    },
    {
      "cell_type": "code",
      "execution_count": null,
      "metadata": {
        "id": "-3okbqAbMWlv"
      },
      "outputs": [],
      "source": [],
      "id": "-3okbqAbMWlv"
    },
    {
      "cell_type": "markdown",
      "metadata": {
        "id": "erQJfjNMMWlv"
      },
      "source": [
        "#### 4. Normalize a 5x5 random matrix (base)\n",
        "`hint: (x - mean) / std, np.mean, np.std`"
      ],
      "id": "erQJfjNMMWlv"
    },
    {
      "cell_type": "code",
      "execution_count": null,
      "metadata": {
        "id": "XR-5Mi-eMWlv"
      },
      "outputs": [],
      "source": [],
      "id": "XR-5Mi-eMWlv"
    },
    {
      "cell_type": "markdown",
      "metadata": {
        "id": "UTdm0iUeMWlv"
      },
      "source": [
        "#### 5. Multiply a 5x3 matrix of ones by a 3x2 matrix of ones (real matrix product) (base)\n",
        "`hint: np.dot`"
      ],
      "id": "UTdm0iUeMWlv"
    },
    {
      "cell_type": "code",
      "execution_count": null,
      "metadata": {
        "id": "apW8-OPWMWlv"
      },
      "outputs": [],
      "source": [],
      "id": "apW8-OPWMWlv"
    },
    {
      "cell_type": "markdown",
      "metadata": {
        "id": "SOb_nYzpMWlv"
      },
      "source": [
        "## Intermediate Practice"
      ],
      "id": "SOb_nYzpMWlv"
    },
    {
      "cell_type": "markdown",
      "metadata": {
        "id": "nL1kvMStMWlv"
      },
      "source": [
        "#### 6. Create a vector of size 10 with values ranging from 0 to 1, both excluded (intermediate)\n",
        "`hint: np.linspace`"
      ],
      "id": "nL1kvMStMWlv"
    },
    {
      "cell_type": "code",
      "execution_count": null,
      "metadata": {
        "id": "itRrjK61MWlv"
      },
      "outputs": [],
      "source": [],
      "id": "itRrjK61MWlv"
    },
    {
      "cell_type": "markdown",
      "metadata": {
        "id": "OPt9-YzrMWlw"
      },
      "source": [
        "#### 7. Create a random vector of size 10 with values in range (-3, 12) and sort it (intermediate)\n",
        "`hint: sort`"
      ],
      "id": "OPt9-YzrMWlw"
    },
    {
      "cell_type": "code",
      "execution_count": null,
      "metadata": {
        "id": "qmBJZp0_MWlw"
      },
      "outputs": [],
      "source": [],
      "id": "qmBJZp0_MWlw"
    },
    {
      "cell_type": "markdown",
      "metadata": {
        "id": "HGOyN30WMWlw"
      },
      "source": [
        "#### 8. Create random vector of size 10 and replace the maximum value by its additive inverse and the minimum value (of the original array) with the median value (intermediate)\n",
        "`hint: argmax, argmin`"
      ],
      "id": "HGOyN30WMWlw"
    },
    {
      "cell_type": "code",
      "execution_count": null,
      "metadata": {
        "id": "Y46Oqk1mMWlw"
      },
      "outputs": [],
      "source": [],
      "id": "Y46Oqk1mMWlw"
    },
    {
      "cell_type": "markdown",
      "metadata": {
        "id": "x11pBZRNMWlw"
      },
      "source": [
        "#### 9. Randomly replace p elements in a 2D nxn zero matrix to 1 (intermediate)\n",
        "`hint: np.put, np.random.choice`"
      ],
      "id": "x11pBZRNMWlw"
    },
    {
      "cell_type": "code",
      "execution_count": null,
      "metadata": {
        "id": "SZ1lgFC2MWlw"
      },
      "outputs": [],
      "source": [],
      "id": "SZ1lgFC2MWlw"
    },
    {
      "cell_type": "markdown",
      "metadata": {
        "id": "Qvjhx7cfMWlw"
      },
      "source": [
        "#### 10. Subtract the mean of each row of a random 5x10 matrix (intermediate)\n",
        "`hint: mean(axis=,keepdims=)`"
      ],
      "id": "Qvjhx7cfMWlw"
    },
    {
      "cell_type": "code",
      "execution_count": null,
      "metadata": {
        "id": "pW913nVAMWlw"
      },
      "outputs": [],
      "source": [],
      "id": "pW913nVAMWlw"
    }
  ],
  "metadata": {
    "kernelspec": {
      "display_name": "Python 3",
      "language": "python",
      "name": "python3"
    },
    "language_info": {
      "codemirror_mode": {
        "name": "ipython",
        "version": 3
      },
      "file_extension": ".py",
      "mimetype": "text/x-python",
      "name": "python",
      "nbconvert_exporter": "python",
      "pygments_lexer": "ipython3",
      "version": "3.6.9"
    },
    "toc-autonumbering": false,
    "colab": {
      "provenance": [],
      "include_colab_link": true
    }
  },
  "nbformat": 4,
  "nbformat_minor": 5
}