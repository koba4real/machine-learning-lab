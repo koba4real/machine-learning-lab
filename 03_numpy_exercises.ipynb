{
  "cells": [
    {
      "cell_type": "markdown",
      "metadata": {
        "id": "view-in-github",
        "colab_type": "text"
      },
      "source": [
        "<a href=\"https://colab.research.google.com/github/koba4real/machine-learning-lab/blob/main/03_numpy_exercises.ipynb\" target=\"_parent\"><img src=\"https://colab.research.google.com/assets/colab-badge.svg\" alt=\"Open In Colab\"/></a>"
      ]
    },
    {
      "cell_type": "markdown",
      "metadata": {
        "id": "icmnYYwvMWlr"
      },
      "source": [
        "# Numpy Practice - Hints - Unibs 2021"
      ],
      "id": "icmnYYwvMWlr"
    },
    {
      "cell_type": "markdown",
      "metadata": {
        "id": "4yOG_DagMWlt"
      },
      "source": [
        "#### Import the numpy package under the name `np` and print version and configuration (base)\n",
        "`hint: import … as, np.__version__, np.show_config`"
      ],
      "id": "4yOG_DagMWlt"
    },
    {
      "cell_type": "code",
      "execution_count": 4,
      "metadata": {
        "colab": {
          "base_uri": "https://localhost:8080/"
        },
        "id": "X-Rp0jkmMWlt",
        "outputId": "80c2400a-3ef6-4dab-f812-add4efce90ed"
      },
      "outputs": [
        {
          "output_type": "stream",
          "name": "stdout",
          "text": [
            "2.0.2\n",
            "Build Dependencies:\n",
            "  blas:\n",
            "    detection method: pkgconfig\n",
            "    found: true\n",
            "    include directory: /opt/_internal/cpython-3.11.8/lib/python3.11/site-packages/scipy_openblas64/include\n",
            "    lib directory: /opt/_internal/cpython-3.11.8/lib/python3.11/site-packages/scipy_openblas64/lib\n",
            "    name: scipy-openblas\n",
            "    openblas configuration: OpenBLAS 0.3.27  USE64BITINT DYNAMIC_ARCH NO_AFFINITY\n",
            "      Zen MAX_THREADS=64\n",
            "    pc file directory: /project/.openblas\n",
            "    version: 0.3.27\n",
            "  lapack:\n",
            "    detection method: pkgconfig\n",
            "    found: true\n",
            "    include directory: /opt/_internal/cpython-3.11.8/lib/python3.11/site-packages/scipy_openblas64/include\n",
            "    lib directory: /opt/_internal/cpython-3.11.8/lib/python3.11/site-packages/scipy_openblas64/lib\n",
            "    name: scipy-openblas\n",
            "    openblas configuration: OpenBLAS 0.3.27  USE64BITINT DYNAMIC_ARCH NO_AFFINITY\n",
            "      Zen MAX_THREADS=64\n",
            "    pc file directory: /project/.openblas\n",
            "    version: 0.3.27\n",
            "Compilers:\n",
            "  c:\n",
            "    commands: cc\n",
            "    linker: ld.bfd\n",
            "    name: gcc\n",
            "    version: 10.2.1\n",
            "  c++:\n",
            "    commands: c++\n",
            "    linker: ld.bfd\n",
            "    name: gcc\n",
            "    version: 10.2.1\n",
            "  cython:\n",
            "    commands: cython\n",
            "    linker: cython\n",
            "    name: cython\n",
            "    version: 3.0.11\n",
            "Machine Information:\n",
            "  build:\n",
            "    cpu: x86_64\n",
            "    endian: little\n",
            "    family: x86_64\n",
            "    system: linux\n",
            "  host:\n",
            "    cpu: x86_64\n",
            "    endian: little\n",
            "    family: x86_64\n",
            "    system: linux\n",
            "Python Information:\n",
            "  path: /tmp/build-env-zm_4loqi/bin/python\n",
            "  version: '3.11'\n",
            "SIMD Extensions:\n",
            "  baseline:\n",
            "  - SSE\n",
            "  - SSE2\n",
            "  - SSE3\n",
            "  found:\n",
            "  - SSSE3\n",
            "  - SSE41\n",
            "  - POPCNT\n",
            "  - SSE42\n",
            "  - AVX\n",
            "  - F16C\n",
            "  - FMA3\n",
            "  - AVX2\n",
            "  not found:\n",
            "  - AVX512F\n",
            "  - AVX512CD\n",
            "  - AVX512_KNL\n",
            "  - AVX512_KNM\n",
            "  - AVX512_SKX\n",
            "  - AVX512_CLX\n",
            "  - AVX512_CNL\n",
            "  - AVX512_ICL\n",
            "\n"
          ]
        }
      ],
      "source": [
        "import numpy as np\n",
        "print(np.__version__)\n",
        "np.show_config()"
      ],
      "id": "X-Rp0jkmMWlt"
    },
    {
      "cell_type": "markdown",
      "metadata": {
        "id": "1VLi957FMWlu"
      },
      "source": [
        "## Base Practice"
      ],
      "id": "1VLi957FMWlu"
    },
    {
      "cell_type": "markdown",
      "metadata": {
        "id": "_vhGJWd7MWlu"
      },
      "source": [
        "#### 1. Create a null vector of size 10 but the fifth value which is 1 (base)\n",
        "`hint: array[4]`"
      ],
      "id": "_vhGJWd7MWlu"
    },
    {
      "cell_type": "code",
      "execution_count": 5,
      "metadata": {
        "colab": {
          "base_uri": "https://localhost:8080/"
        },
        "id": "aEwOFPzTMWlu",
        "outputId": "6c02ce8e-fd0c-4fbe-d8a4-f6090f602044"
      },
      "outputs": [
        {
          "output_type": "stream",
          "name": "stdout",
          "text": [
            "[0. 0. 0. 0. 1. 0. 0. 0. 0. 0.]\n"
          ]
        }
      ],
      "source": [
        "array = np.zeros(10)\n",
        "array[4] = 1\n",
        "print(array)"
      ],
      "id": "aEwOFPzTMWlu"
    },
    {
      "cell_type": "markdown",
      "metadata": {
        "id": "60O_MKrUMWlu"
      },
      "source": [
        "#### 2. Create a 3x3 matrix with values ranging from 0 to 8 with zeros on the diagonal (base)\n",
        "`hint: np.arange, reshape, np.eye`"
      ],
      "id": "60O_MKrUMWlu"
    },
    {
      "cell_type": "code",
      "execution_count": 14,
      "metadata": {
        "id": "KAKMUmXIMWlu",
        "colab": {
          "base_uri": "https://localhost:8080/"
        },
        "outputId": "c913337a-4749-456f-ec40-834d34866556"
      },
      "outputs": [
        {
          "output_type": "stream",
          "name": "stdout",
          "text": [
            "[[0. 1. 2.]\n",
            " [3. 0. 5.]\n",
            " [6. 7. 0.]]\n"
          ]
        }
      ],
      "source": [
        "matrix = np.arange(9).reshape(3, 3)\n",
        "anti=np.eye(3)\n",
        "matrix=matrix-anti*matrix\n",
        "print(matrix)"
      ],
      "id": "KAKMUmXIMWlu"
    },
    {
      "cell_type": "markdown",
      "metadata": {
        "id": "nMX4IXiWMWlu"
      },
      "source": [
        "#### 3. How to add a border (filled with 0's) around an 5x5 matrix of ones? (base)\n",
        "`hint: np.ones, np.pad`"
      ],
      "id": "nMX4IXiWMWlu"
    },
    {
      "cell_type": "code",
      "execution_count": 16,
      "metadata": {
        "id": "-3okbqAbMWlv",
        "colab": {
          "base_uri": "https://localhost:8080/"
        },
        "outputId": "da276bf8-4f8a-4426-a834-ee3ddf14cd16"
      },
      "outputs": [
        {
          "output_type": "execute_result",
          "data": {
            "text/plain": [
              "array([[0., 0., 0., 0., 0., 0., 0.],\n",
              "       [0., 1., 1., 1., 1., 1., 0.],\n",
              "       [0., 1., 1., 1., 1., 1., 0.],\n",
              "       [0., 1., 1., 1., 1., 1., 0.],\n",
              "       [0., 1., 1., 1., 1., 1., 0.],\n",
              "       [0., 1., 1., 1., 1., 1., 0.],\n",
              "       [0., 0., 0., 0., 0., 0., 0.]])"
            ]
          },
          "metadata": {},
          "execution_count": 16
        }
      ],
      "source": [
        "np.pad(np.ones((5,5)), pad_width=1, mode='constant', constant_values=0)"
      ],
      "id": "-3okbqAbMWlv"
    },
    {
      "cell_type": "markdown",
      "metadata": {
        "id": "erQJfjNMMWlv"
      },
      "source": [
        "#### 4. Normalize a 5x5 random matrix (base)\n",
        "`hint: (x - mean) / std, np.mean, np.std`"
      ],
      "id": "erQJfjNMMWlv"
    },
    {
      "cell_type": "code",
      "execution_count": 17,
      "metadata": {
        "id": "XR-5Mi-eMWlv",
        "colab": {
          "base_uri": "https://localhost:8080/"
        },
        "outputId": "baa1f536-18d4-4eec-cccf-e8bc9030c768"
      },
      "outputs": [
        {
          "output_type": "stream",
          "name": "stdout",
          "text": [
            "[[-0.14854421  0.44055117  0.04247881 -0.1624605  -0.59169993]\n",
            " [ 0.19519398 -0.54236874  1.06578972  1.32033341 -0.73408512]\n",
            " [ 0.71154487 -0.21907095 -0.08045184  1.18555078 -1.84023484]\n",
            " [-1.78325269 -2.02016749  0.85634317  0.66350295  0.98873998]\n",
            " [ 1.37328739  0.73786513 -0.4577726   0.67190312 -1.67297558]]\n"
          ]
        }
      ],
      "source": [
        "np.random.seed(0)\n",
        "x=np.random.rand(5,5)\n",
        "mean=np.mean(x)\n",
        "std=np.std(x)\n",
        "print((x-mean)/std)"
      ],
      "id": "XR-5Mi-eMWlv"
    },
    {
      "cell_type": "markdown",
      "metadata": {
        "id": "UTdm0iUeMWlv"
      },
      "source": [
        "#### 5. Multiply a 5x3 matrix of ones by a 3x2 matrix of ones (real matrix product) (base)\n",
        "`hint: np.dot`"
      ],
      "id": "UTdm0iUeMWlv"
    },
    {
      "cell_type": "code",
      "execution_count": 19,
      "metadata": {
        "id": "apW8-OPWMWlv",
        "colab": {
          "base_uri": "https://localhost:8080/"
        },
        "outputId": "7124c9fc-324c-4f4b-fed5-4ad25c9745e8"
      },
      "outputs": [
        {
          "output_type": "execute_result",
          "data": {
            "text/plain": [
              "array([[3., 3.],\n",
              "       [3., 3.],\n",
              "       [3., 3.],\n",
              "       [3., 3.],\n",
              "       [3., 3.]])"
            ]
          },
          "metadata": {},
          "execution_count": 19
        }
      ],
      "source": [
        "np.dot(np.ones((5,3)),np.ones((3,2)))"
      ],
      "id": "apW8-OPWMWlv"
    },
    {
      "cell_type": "markdown",
      "metadata": {
        "id": "SOb_nYzpMWlv"
      },
      "source": [
        "## Intermediate Practice"
      ],
      "id": "SOb_nYzpMWlv"
    },
    {
      "cell_type": "markdown",
      "metadata": {
        "id": "nL1kvMStMWlv"
      },
      "source": [
        "#### 6. Create a vector of size 10 with values ranging from 0 to 1, both excluded (intermediate)\n",
        "`hint: np.linspace`"
      ],
      "id": "nL1kvMStMWlv"
    },
    {
      "cell_type": "code",
      "execution_count": 22,
      "metadata": {
        "id": "itRrjK61MWlv",
        "colab": {
          "base_uri": "https://localhost:8080/"
        },
        "outputId": "9e9021d9-a8a9-4b63-8d15-46f851104f92"
      },
      "outputs": [
        {
          "output_type": "execute_result",
          "data": {
            "text/plain": [
              "array([0.09090909, 0.18181818, 0.27272727, 0.36363636, 0.45454545,\n",
              "       0.54545455, 0.63636364, 0.72727273, 0.81818182, 0.90909091])"
            ]
          },
          "metadata": {},
          "execution_count": 22
        }
      ],
      "source": [
        "np.linspace(0,1,12)[1:-1]"
      ],
      "id": "itRrjK61MWlv"
    },
    {
      "cell_type": "markdown",
      "metadata": {
        "id": "OPt9-YzrMWlw"
      },
      "source": [
        "#### 7. Create a random vector of size 10 with values in range (-3, 12) and sort it (intermediate)\n",
        "`hint: sort`"
      ],
      "id": "OPt9-YzrMWlw"
    },
    {
      "cell_type": "code",
      "execution_count": 23,
      "metadata": {
        "id": "qmBJZp0_MWlw",
        "colab": {
          "base_uri": "https://localhost:8080/"
        },
        "outputId": "6c7a5159-ac84-4136-860e-df199dba7c16"
      },
      "outputs": [
        {
          "output_type": "stream",
          "name": "stdout",
          "text": [
            "[-3 -3 -2  0  1  4  6  6  7 11]\n"
          ]
        }
      ],
      "source": [
        "sort=np.sort(np.random.randint(-3,12,10))\n",
        "print(sort)"
      ],
      "id": "qmBJZp0_MWlw"
    },
    {
      "cell_type": "markdown",
      "metadata": {
        "id": "HGOyN30WMWlw"
      },
      "source": [
        "#### 8. Create random vector of size 10 and replace the maximum value by its additive inverse and the minimum value (of the original array) with the median value (intermediate)\n",
        "`hint: argmax, argmin`"
      ],
      "id": "HGOyN30WMWlw"
    },
    {
      "cell_type": "code",
      "execution_count": 27,
      "metadata": {
        "id": "Y46Oqk1mMWlw",
        "colab": {
          "base_uri": "https://localhost:8080/"
        },
        "outputId": "b3451804-de59-43cf-cb9c-020be48a215b"
      },
      "outputs": [
        {
          "output_type": "stream",
          "name": "stdout",
          "text": [
            "Vettore originale: [-83 -21  32   5 -58  86 -69  20 -99 -35]\n",
            "Vettore modificato: [-83 -21  32   5 -58 -86 -69  20 -46 -35]\n"
          ]
        }
      ],
      "source": [
        "\n",
        "vettore = np.random.randint(-100, 100, size=10)\n",
        "print(\"Vettore originale:\", vettore)\n",
        "\n",
        "vettore[np.argmax(vettore)] = -vettore[np.argmax(vettore)]\n",
        "vettore[np.argmin(vettore)] = int(np.median(vettore))\n",
        "\n",
        "print(\"Vettore modificato:\", vettore)"
      ],
      "id": "Y46Oqk1mMWlw"
    },
    {
      "cell_type": "markdown",
      "metadata": {
        "id": "x11pBZRNMWlw"
      },
      "source": [
        "#### 9. Randomly replace p elements in a 2D nxn zero matrix to 1 (intermediate)\n",
        "`hint: np.put, np.random.choice`"
      ],
      "id": "x11pBZRNMWlw"
    },
    {
      "cell_type": "code",
      "execution_count": 31,
      "metadata": {
        "id": "SZ1lgFC2MWlw"
      },
      "outputs": [],
      "source": [
        "np.put(np.zeros((10,10)), np.random.choice(range(100), 10, replace=False), 1)"
      ],
      "id": "SZ1lgFC2MWlw"
    },
    {
      "cell_type": "markdown",
      "metadata": {
        "id": "Qvjhx7cfMWlw"
      },
      "source": [
        "#### 10. Subtract the mean of each row of a random 5x10 matrix (intermediate)\n",
        "`hint: mean(axis=,keepdims=)`"
      ],
      "id": "Qvjhx7cfMWlw"
    },
    {
      "cell_type": "code",
      "execution_count": 33,
      "metadata": {
        "id": "pW913nVAMWlw",
        "colab": {
          "base_uri": "https://localhost:8080/"
        },
        "outputId": "663e44ad-0988-460b-c5f0-73b37bf70ce4"
      },
      "outputs": [
        {
          "output_type": "stream",
          "name": "stdout",
          "text": [
            "Matrice originale:\n",
            " [[-0.86249519  1.08245595 -0.14978222 -1.01479235  0.68895269 -2.34110832\n",
            "   0.12614029  1.20093909  0.96299691  1.59006635]\n",
            " [ 0.61723123 -0.47781636  1.73627939  2.97069986  0.61513455  2.0669435\n",
            "   0.07754323 -0.45231908 -0.59755485  1.308767  ]\n",
            " [ 0.38587713 -0.00719074 -0.66298574 -1.34704629 -0.09519928 -0.22772779\n",
            "   0.43243668  0.46693969 -1.3402814   1.42285966]\n",
            " [ 0.99379727 -0.61651086  0.20493776 -0.47954552  1.51238621 -1.34683907\n",
            "  -2.78073771 -0.0894738   0.55814156  0.75572522]\n",
            " [ 0.47821507 -0.05390584 -1.24190139 -1.65849531 -0.35337169  1.6565077\n",
            "   1.51191283 -0.90680429 -0.77721733 -0.73922809]]\n",
            "\n",
            "Matrice dopo la sottrazione della media di ogni riga:\n",
            " [[-9.90832514e-01  9.54118627e-01 -2.78119537e-01 -1.14312967e+00\n",
            "   5.60615366e-01 -2.46944564e+00 -2.19702927e-03  1.07260177e+00\n",
            "   8.34659591e-01  1.46172903e+00]\n",
            " [-1.69259618e-01 -1.26430721e+00  9.49788545e-01  2.18420901e+00\n",
            "  -1.71356293e-01  1.28045266e+00 -7.08947619e-01 -1.23880993e+00\n",
            "  -1.38404569e+00  5.22276150e-01]\n",
            " [ 4.83108943e-01  9.00410660e-02 -5.65753932e-01 -1.24981448e+00\n",
            "   2.03252585e-03 -1.30495980e-01  5.29668485e-01  5.64171498e-01\n",
            "  -1.24304959e+00  1.52009147e+00]\n",
            " [ 1.12260917e+00 -4.87698964e-01  3.33749655e-01 -3.50733631e-01\n",
            "   1.64119810e+00 -1.21802718e+00 -2.65192581e+00  3.93380903e-02\n",
            "   6.86953455e-01  8.84537116e-01]\n",
            " [ 6.86643906e-01  1.54522994e-01 -1.03347255e+00 -1.45006648e+00\n",
            "  -1.44942854e-01  1.86493653e+00  1.72034166e+00 -6.98375459e-01\n",
            "  -5.68788500e-01 -5.30799256e-01]]\n"
          ]
        }
      ],
      "source": [
        "matrice = np.random.randn(5, 10)\n",
        "print(\"Matrice originale:\\n\", matrice)\n",
        "\n",
        "media_righe = matrice.mean(axis=1, keepdims=True)\n",
        "\n",
        "matrice_modificata = matrice - media_righe\n",
        "\n",
        "print(\"\\nMatrice dopo la sottrazione della media di ogni riga:\\n\", matrice_modificata)"
      ],
      "id": "pW913nVAMWlw"
    }
  ],
  "metadata": {
    "kernelspec": {
      "display_name": "Python 3",
      "language": "python",
      "name": "python3"
    },
    "language_info": {
      "codemirror_mode": {
        "name": "ipython",
        "version": 3
      },
      "file_extension": ".py",
      "mimetype": "text/x-python",
      "name": "python",
      "nbconvert_exporter": "python",
      "pygments_lexer": "ipython3",
      "version": "3.6.9"
    },
    "toc-autonumbering": false,
    "colab": {
      "provenance": [],
      "include_colab_link": true
    }
  },
  "nbformat": 4,
  "nbformat_minor": 5
}